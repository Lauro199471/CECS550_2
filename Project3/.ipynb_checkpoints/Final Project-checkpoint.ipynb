{
 "cells": [
  {
   "cell_type": "markdown",
   "metadata": {},
   "source": [
    "<h1>The Search for New Earths</h1>\n",
    "\n",
    "The data describe the change in flux (light intensity) of several thousand stars. Each star has a binary label of `2` or `1`. `2` indicated that that the star is confirmed to have at least one exoplanet in orbit; some observations are in fact multi-planet systems.<br>\n",
    "The data presented here are cleaned and are derived from observations made by the NASA Kepler space telescope. \n",
    "\n",
    "<h2> Decription</h2>\n",
    "\n",
    "Trainset:<br>\n",
    "<li>5087 rows or observations.\n",
    "<li>3198 columns or features.\n",
    "<li>Column 1 is the label vector. Columns 2 - 3198 are the flux values over time.\n",
    "<li>37 confirmed exoplanet-stars and 5050 non-exoplanet-stars.\n",
    "<br>\n",
    "    \n",
    "Testset:<br>\n",
    "<li>570 rows or observations.\n",
    "<li>3198 columns or features.\n",
    "<li>Column 1 is the label vector. Columns 2 - 3198 are the flux values over time.\n",
    "<li>5 confirmed exoplanet-stars and 565 non-exoplanet-stars.\n",
    "<br>    \n",
    "    \n",
    "Label:<br>\n",
    "``1`` : Non-Exoplanet Star<br>\n",
    "``2`` : Exoplanet Star<br>\n",
    "<hr>"
   ]
  },
  {
   "cell_type": "markdown",
   "metadata": {},
   "source": [
    "# Load the Data"
   ]
  },
  {
   "cell_type": "code",
   "execution_count": null,
   "metadata": {},
   "outputs": [],
   "source": [
    "import pandas as pd\n",
    "\n",
    "trainig_data =  pd.read_csv('winequalityN.csv', index_col=False)\n",
    "data = knn.data_no_nan(data)\n",
    "data.head()"
   ]
  }
 ],
 "metadata": {
  "kernelspec": {
   "display_name": "Python 3",
   "language": "python",
   "name": "python3"
  },
  "language_info": {
   "codemirror_mode": {
    "name": "ipython",
    "version": 3
   },
   "file_extension": ".py",
   "mimetype": "text/x-python",
   "name": "python",
   "nbconvert_exporter": "python",
   "pygments_lexer": "ipython3",
   "version": "3.7.7"
  }
 },
 "nbformat": 4,
 "nbformat_minor": 4
}
